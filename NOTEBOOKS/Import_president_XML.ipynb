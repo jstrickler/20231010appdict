{
 "cells": [
  {
   "cell_type": "markdown",
   "id": "960250e4-e802-4f1b-bc24-4cbf0e15f333",
   "metadata": {},
   "source": [
    "# Import President data from XML file"
   ]
  },
  {
   "cell_type": "markdown",
   "id": "3b89f089-a0fa-4756-9d40-69af86ae27d3",
   "metadata": {},
   "source": [
    "## Standard imports"
   ]
  },
  {
   "cell_type": "code",
   "execution_count": 1,
   "id": "4114a1f5-31e9-48b1-97b9-80e34ee5db7a",
   "metadata": {},
   "outputs": [],
   "source": [
    "# %load imports.py\n",
    "import numpy as np\n",
    "import scipy as sp\n",
    "import pandas as pd\n",
    "import matplotlib.pyplot as plt\n",
    "import matplotlib as mpl\n",
    "%matplotlib inline\n",
    "import seaborn as sns\n",
    "sns.set()\n",
    "import lxml.etree as ET\n",
    "from datetime import date\n"
   ]
  },
  {
   "cell_type": "markdown",
   "id": "657ec747-c9a5-42b4-8165-84f67876d294",
   "metadata": {},
   "source": [
    "## Create empty dataframe with column and index names"
   ]
  },
  {
   "cell_type": "code",
   "execution_count": 2,
   "id": "af39e9ac-d827-4b16-ae71-19e4275209e5",
   "metadata": {},
   "outputs": [
    {
     "data": {
      "text/html": [
       "<div>\n",
       "<style scoped>\n",
       "    .dataframe tbody tr th:only-of-type {\n",
       "        vertical-align: middle;\n",
       "    }\n",
       "\n",
       "    .dataframe tbody tr th {\n",
       "        vertical-align: top;\n",
       "    }\n",
       "\n",
       "    .dataframe thead th {\n",
       "        text-align: right;\n",
       "    }\n",
       "</style>\n",
       "<table border=\"1\" class=\"dataframe\">\n",
       "  <thead>\n",
       "    <tr style=\"text-align: right;\">\n",
       "      <th></th>\n",
       "      <th>first_name</th>\n",
       "      <th>last_name</th>\n",
       "      <th>dob</th>\n",
       "      <th>dod</th>\n",
       "      <th>bplace</th>\n",
       "      <th>bstate</th>\n",
       "      <th>tstart</th>\n",
       "      <th>tend</th>\n",
       "      <th>party</th>\n",
       "    </tr>\n",
       "    <tr>\n",
       "      <th>term</th>\n",
       "      <th></th>\n",
       "      <th></th>\n",
       "      <th></th>\n",
       "      <th></th>\n",
       "      <th></th>\n",
       "      <th></th>\n",
       "      <th></th>\n",
       "      <th></th>\n",
       "      <th></th>\n",
       "    </tr>\n",
       "  </thead>\n",
       "  <tbody>\n",
       "  </tbody>\n",
       "</table>\n",
       "</div>"
      ],
      "text/plain": [
       "Empty DataFrame\n",
       "Columns: [first_name, last_name, dob, dod, bplace, bstate, tstart, tend, party]\n",
       "Index: []"
      ]
     },
     "execution_count": 2,
     "metadata": {},
     "output_type": "execute_result"
    }
   ],
   "source": [
    "df = pd.DataFrame(columns='first_name last_name dob dod bplace bstate tstart tend party'.split(), index=pd.Index(data=[], name='term')) \n",
    "df"
   ]
  },
  {
   "cell_type": "markdown",
   "id": "2c9ed003-30f4-4feb-a070-d170ab0ff573",
   "metadata": {},
   "source": [
    "## Month lookup\n",
    "A dictionary to translate the month name (e.g., 'Jan') into the integer month number"
   ]
  },
  {
   "cell_type": "code",
   "execution_count": 3,
   "id": "1efa2019-74fa-4232-b45a-5e8ed6b6e00d",
   "metadata": {},
   "outputs": [
    {
     "data": {
      "text/plain": [
       "{'Jan': 1,\n",
       " 'Feb': 2,\n",
       " 'Mar': 3,\n",
       " 'Apr': 4,\n",
       " 'May': 5,\n",
       " 'Jun': 6,\n",
       " 'Jul': 7,\n",
       " 'Aug': 8,\n",
       " 'Sep': 9,\n",
       " 'Oct': 10,\n",
       " 'Nov': 11,\n",
       " 'Dec': 12}"
      ]
     },
     "execution_count": 3,
     "metadata": {},
     "output_type": "execute_result"
    }
   ],
   "source": [
    "months = 'Jan Feb Mar Apr May Jun Jul Aug Sep Oct Nov Dec'.split()\n",
    "month_lookup = { month:num for num, month in enumerate(months, 1)}\n",
    "month_lookup"
   ]
  },
  {
   "cell_type": "markdown",
   "id": "252e0be8-f74b-45f9-8e57-63f7d90f34a1",
   "metadata": {},
   "source": [
    "## Function to find date values and make a Python date object\n",
    "We use xpath (`.//TAG`) to find the date tag, then grab the text from the sub tags. The year and day must be converted to integers, and the month value is a string\n",
    "that is looked up in the `month_lookup` dictionary."
   ]
  },
  {
   "cell_type": "code",
   "execution_count": 4,
   "id": "862309b7-78b6-4c45-93df-0ef9540ed75d",
   "metadata": {},
   "outputs": [],
   "source": [
    "def get_date(doc, tag):\n",
    "    year = row.findtext(f'.//{tag}/year')\n",
    "    if year == '':  # still alive\n",
    "        return date.today()\n",
    "    month = row.findtext(f'.//{tag}/month')\n",
    "    day = row.findtext(f'.//{tag}/day')\n",
    "\n",
    "    return date(int(year), month_lookup[month], int(day))"
   ]
  },
  {
   "cell_type": "code",
   "execution_count": 5,
   "id": "d57700bc-9450-4ba8-95ae-0b047046e0ac",
   "metadata": {},
   "outputs": [
    {
     "data": {
      "text/html": [
       "<div>\n",
       "<style scoped>\n",
       "    .dataframe tbody tr th:only-of-type {\n",
       "        vertical-align: middle;\n",
       "    }\n",
       "\n",
       "    .dataframe tbody tr th {\n",
       "        vertical-align: top;\n",
       "    }\n",
       "\n",
       "    .dataframe thead th {\n",
       "        text-align: right;\n",
       "    }\n",
       "</style>\n",
       "<table border=\"1\" class=\"dataframe\">\n",
       "  <thead>\n",
       "    <tr style=\"text-align: right;\">\n",
       "      <th></th>\n",
       "      <th>first_name</th>\n",
       "      <th>last_name</th>\n",
       "      <th>dob</th>\n",
       "      <th>dod</th>\n",
       "      <th>bplace</th>\n",
       "      <th>bstate</th>\n",
       "      <th>tstart</th>\n",
       "      <th>tend</th>\n",
       "      <th>party</th>\n",
       "    </tr>\n",
       "    <tr>\n",
       "      <th>term</th>\n",
       "      <th></th>\n",
       "      <th></th>\n",
       "      <th></th>\n",
       "      <th></th>\n",
       "      <th></th>\n",
       "      <th></th>\n",
       "      <th></th>\n",
       "      <th></th>\n",
       "      <th></th>\n",
       "    </tr>\n",
       "  </thead>\n",
       "  <tbody>\n",
       "    <tr>\n",
       "      <th>42</th>\n",
       "      <td>William Jefferson ''Bill''</td>\n",
       "      <td>Clinton</td>\n",
       "      <td>1946-08-19</td>\n",
       "      <td>2023-10-13</td>\n",
       "      <td>Hope</td>\n",
       "      <td>Arkansas</td>\n",
       "      <td>1993-01-20</td>\n",
       "      <td>1993-01-20</td>\n",
       "      <td>Democratic</td>\n",
       "    </tr>\n",
       "    <tr>\n",
       "      <th>43</th>\n",
       "      <td>George Walker</td>\n",
       "      <td>Bush</td>\n",
       "      <td>1946-07-06</td>\n",
       "      <td>2023-10-13</td>\n",
       "      <td>New Haven</td>\n",
       "      <td>Connecticut</td>\n",
       "      <td>2001-01-20</td>\n",
       "      <td>2001-01-20</td>\n",
       "      <td>Republican</td>\n",
       "    </tr>\n",
       "    <tr>\n",
       "      <th>44</th>\n",
       "      <td>Barack Hussein</td>\n",
       "      <td>Obama</td>\n",
       "      <td>1961-08-04</td>\n",
       "      <td>2023-10-13</td>\n",
       "      <td>Honolulu</td>\n",
       "      <td>Hawaii</td>\n",
       "      <td>2009-01-20</td>\n",
       "      <td>2009-01-20</td>\n",
       "      <td>Democratic</td>\n",
       "    </tr>\n",
       "    <tr>\n",
       "      <th>45</th>\n",
       "      <td>Donald John</td>\n",
       "      <td>Trump</td>\n",
       "      <td>1946-06-14</td>\n",
       "      <td>2023-10-13</td>\n",
       "      <td>Queens, NYC</td>\n",
       "      <td>New York</td>\n",
       "      <td>2017-01-20</td>\n",
       "      <td>2017-01-20</td>\n",
       "      <td>Republican</td>\n",
       "    </tr>\n",
       "    <tr>\n",
       "      <th>46</th>\n",
       "      <td>Joseph Robinette</td>\n",
       "      <td>Biden</td>\n",
       "      <td>1942-11-10</td>\n",
       "      <td>2023-10-13</td>\n",
       "      <td>Scranton</td>\n",
       "      <td>Pennsylvania</td>\n",
       "      <td>2021-01-20</td>\n",
       "      <td>2021-01-20</td>\n",
       "      <td>Democratic</td>\n",
       "    </tr>\n",
       "  </tbody>\n",
       "</table>\n",
       "</div>"
      ],
      "text/plain": [
       "                      first_name last_name         dob         dod  \\\n",
       "term                                                                 \n",
       "42    William Jefferson ''Bill''   Clinton  1946-08-19  2023-10-13   \n",
       "43                 George Walker      Bush  1946-07-06  2023-10-13   \n",
       "44                Barack Hussein     Obama  1961-08-04  2023-10-13   \n",
       "45                   Donald John     Trump  1946-06-14  2023-10-13   \n",
       "46              Joseph Robinette     Biden  1942-11-10  2023-10-13   \n",
       "\n",
       "           bplace        bstate      tstart        tend       party  \n",
       "term                                                                 \n",
       "42           Hope      Arkansas  1993-01-20  1993-01-20  Democratic  \n",
       "43      New Haven   Connecticut  2001-01-20  2001-01-20  Republican  \n",
       "44       Honolulu        Hawaii  2009-01-20  2009-01-20  Democratic  \n",
       "45    Queens, NYC      New York  2017-01-20  2017-01-20  Republican  \n",
       "46       Scranton  Pennsylvania  2021-01-20  2021-01-20  Democratic  "
      ]
     },
     "execution_count": 5,
     "metadata": {},
     "output_type": "execute_result"
    }
   ],
   "source": [
    "doc = ET.parse('../DATA/presidents.xml')\n",
    "for row in doc.findall('.//president'):\n",
    "    term = row.findtext('index')\n",
    "    first_name = row.findtext('.//name/first')\n",
    "    last_name = row.findtext('.//name/last')\n",
    "    dob = get_date(doc, 'birth')\n",
    "    dod = get_date(doc, 'death')\n",
    "    bplace  = row.findtext('birthplace')\n",
    "    bstate = row.findtext('birthstate')\n",
    "    tstart = get_date(doc, 'termstart')\n",
    "    tend = get_date(doc, 'termstart')\n",
    "    party = row.findtext('party')\n",
    "    df.loc[term] = {   # add row to dataframe\n",
    "        \"first_name\": first_name, \"last_name\": last_name, \"dob\": dob, \"dod\": dod,\n",
    "        'bplace': bplace, 'bstate': bstate, 'tstart': tstart, 'tend': tend, 'party': party,\n",
    "    }\n",
    "\n",
    "df.tail()"
   ]
  },
  {
   "cell_type": "markdown",
   "id": "7df8b640-e45e-42f1-a17e-ccae7ebb3761",
   "metadata": {},
   "source": [
    "## Find first-born president for each party\n",
    "\n",
    "Use `groupby()` to group presidents by party, then use `idxmin()` to find the index of the first entry with the minimum value. \n",
    "Then we look up the row with that index, which returns a Series, and index into the series with the column names."
   ]
  },
  {
   "cell_type": "code",
   "execution_count": 6,
   "id": "b4c83a1f-70cf-4ccf-a5fb-65d53921fe6f",
   "metadata": {},
   "outputs": [
    {
     "name": "stdout",
     "output_type": "stream",
     "text": [
      "Democratic Andrew Jackson 1767-03-15\n",
      "Democratic - Republican Thomas Jefferson 1743-04-13\n",
      "Federalist John Adams 1735-10-30\n",
      "Republican Andrew Johnson 1808-12-29\n",
      "Whig William Henry Harrison 1773-02-09\n",
      "no party George Washington 1732-02-22\n"
     ]
    }
   ],
   "source": [
    "for party, party_data in df.groupby('party'):\n",
    "    min_index = party_data['dob'].idxmin() \n",
    "    president = df.loc[min_index]\n",
    "    print(party, president.first_name, president.last_name, president.dob)"
   ]
  },
  {
   "cell_type": "markdown",
   "id": "843f54c4-7802-40d1-a8c4-fd4d8a7d89e9",
   "metadata": {},
   "source": [
    "## Find youngest president at start of term\n",
    "It's easy to add another column to the dataframe with the age at the start of their first term by subtracting the date of birth from the term start date. That returns a `timedelta` object representing the elapsed time. That object has a `days` attribute, so we divide the days by 365.25 to get the approximate number of years. "
   ]
  },
  {
   "cell_type": "code",
   "execution_count": 14,
   "id": "561cfe21-d629-4d16-b9c1-19dc9266df4d",
   "metadata": {},
   "outputs": [
    {
     "data": {
      "text/plain": [
       "first_name         Theodore\n",
       "last_name         Roosevelt\n",
       "dob              1858-10-27\n",
       "dod              1919-01-06\n",
       "bplace        New York City\n",
       "bstate             New York\n",
       "tstart           1901-09-14\n",
       "tend             1901-09-14\n",
       "party            Republican\n",
       "term_age               42.9\n",
       "Name: 26, dtype: object"
      ]
     },
     "execution_count": 14,
     "metadata": {},
     "output_type": "execute_result"
    }
   ],
   "source": [
    "df['term_age'] = [round(d.days / 365.25, 1) for d in (df['tstart'] - df['dob'])]\n",
    "index_of_youngest = df.term_age.idxmin()\n",
    "df.loc[index_of_youngest]"
   ]
  },
  {
   "cell_type": "markdown",
   "id": "a029fa91-7540-4d34-8397-c6e9ffde7e8f",
   "metadata": {},
   "source": [
    "## Count presidents in each party\n",
    "The `value_counts()` method will count distinct occurences of values."
   ]
  },
  {
   "cell_type": "code",
   "execution_count": 12,
   "id": "664bbae7-caaa-4005-8874-c8ad88c5ee7b",
   "metadata": {},
   "outputs": [
    {
     "data": {
      "text/plain": [
       "party\n",
       "Republican                 20\n",
       "Democratic                 16\n",
       "Democratic - Republican     4\n",
       "Whig                        4\n",
       "Federalist                  1\n",
       "no party                    1\n",
       "Name: count, dtype: int64"
      ]
     },
     "execution_count": 12,
     "metadata": {},
     "output_type": "execute_result"
    }
   ],
   "source": [
    "df.value_counts('party')"
   ]
  },
  {
   "cell_type": "markdown",
   "id": "95f8c1e3-4819-452d-b9ed-84a27fb4b84f",
   "metadata": {},
   "source": [
    "## Count presidents from each state\n"
   ]
  },
  {
   "cell_type": "code",
   "execution_count": 13,
   "id": "8cc157d1-8ba6-4be4-a6dc-eb4d5431b2d0",
   "metadata": {},
   "outputs": [
    {
     "data": {
      "text/plain": [
       "bstate\n",
       "Virginia          8\n",
       "Ohio              7\n",
       "New York          5\n",
       "Massachusetts     4\n",
       "Vermont           2\n",
       "Texas             2\n",
       "Pennsylvania      2\n",
       "North Carolina    2\n",
       "New Jersey        2\n",
       "New Hampshire     1\n",
       "South Carolina    1\n",
       "Arkansas          1\n",
       "California        1\n",
       "Missouri          1\n",
       "Kentucky          1\n",
       "Iowa              1\n",
       "Illinois          1\n",
       "Hawaii            1\n",
       "Georgia           1\n",
       "Connecticut       1\n",
       "Nebraska          1\n",
       "Name: count, dtype: int64"
      ]
     },
     "execution_count": 13,
     "metadata": {},
     "output_type": "execute_result"
    }
   ],
   "source": [
    "df.value_counts('bstate')"
   ]
  },
  {
   "cell_type": "code",
   "execution_count": null,
   "id": "b9fe7bbe-a27a-4084-a5d5-2761ca799d4b",
   "metadata": {},
   "outputs": [],
   "source": []
  }
 ],
 "metadata": {
  "kernelspec": {
   "display_name": "Python 3 (ipykernel)",
   "language": "python",
   "name": "python3"
  },
  "language_info": {
   "codemirror_mode": {
    "name": "ipython",
    "version": 3
   },
   "file_extension": ".py",
   "mimetype": "text/x-python",
   "name": "python",
   "nbconvert_exporter": "python",
   "pygments_lexer": "ipython3",
   "version": "3.9.17"
  }
 },
 "nbformat": 4,
 "nbformat_minor": 5
}
